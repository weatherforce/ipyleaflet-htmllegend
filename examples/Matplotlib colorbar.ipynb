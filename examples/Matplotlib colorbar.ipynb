{
 "cells": [
  {
   "cell_type": "markdown",
   "metadata": {},
   "source": [
    "## Create a colorbar with matplotlib\n",
    "\n",
    "Reference: https://matplotlib.org/tutorials/colors/colorbar_only.html"
   ]
  },
  {
   "cell_type": "code",
   "execution_count": 1,
   "metadata": {
    "scrolled": true
   },
   "outputs": [],
   "source": [
    "import matplotlib as mpl\n",
    "import matplotlib.pyplot as plt\n",
    "\n",
    "\n",
    "fig, ax = plt.subplots()\n",
    "fig.set_figheight(.25)\n",
    "col_map = plt.get_cmap('nipy_spectral')\n",
    "cb = mpl.colorbar.ColorbarBase(ax, cmap=col_map, orientation='horizontal')\n",
    "plt.savefig(\"colorbar4.png\")\n",
    "cb;"
   ]
  },
  {
   "cell_type": "markdown",
   "metadata": {},
   "source": [
    "## Load GeoJSON data"
   ]
  },
  {
   "cell_type": "code",
   "execution_count": 2,
   "metadata": {},
   "outputs": [],
   "source": [
    "from ipyleaflet import GeoJSON\n",
    "import json\n",
    "\n",
    "with open(\"geojson-layer.json\") as fp:\n",
    "    geojson_data = json.load(fp)\n",
    "    \n",
    "geojson_layer = GeoJSON(data=geojson_data)"
   ]
  },
  {
   "cell_type": "markdown",
   "metadata": {},
   "source": [
    "## Create legend including the colorbar"
   ]
  },
  {
   "cell_type": "code",
   "execution_count": 3,
   "metadata": {},
   "outputs": [],
   "source": [
    "other_geojson =  {\n",
    "      \"type\": \"Feature\",\n",
    "      \"properties\": {},\n",
    "      \"geometry\": {\n",
    "        \"type\": \"Polygon\",\n",
    "        \"coordinates\": [\n",
    "          [\n",
    "            [\n",
    "              20.6103515625,\n",
    "              52.53627304145948\n",
    "            ],\n",
    "            [\n",
    "              19.248046875,\n",
    "              51.67255514839674\n",
    "            ],\n",
    "            [\n",
    "              22.148437499999996,\n",
    "              51.536085601784755\n",
    "            ],\n",
    "            [\n",
    "              20.6103515625,\n",
    "              52.53627304145948\n",
    "            ]\n",
    "          ]\n",
    "        ]\n",
    "      }\n",
    "    }\n",
    "geojson_layer2 = GeoJSON(data=other_geojson)"
   ]
  },
  {
   "cell_type": "code",
   "execution_count": 4,
   "metadata": {},
   "outputs": [],
   "source": [
    "from ipyleaflet_htmllegend import HtmlLegend\n",
    "from ipywidgets import widget_serialization\n",
    "\n",
    "#layer_id = widget_serialization['to_json'](geojson_layer, None)\n",
    "#layer_id_2 = widget_serialization['to_json'](geojson_layer2, None)\n",
    "\n",
    "\n",
    "html_legend = HtmlLegend(config={\n",
    "    \"defaultOpacity\": 0.7,\n",
    "    \"legends\": [{\n",
    "        \"name\": 'Legend 1',\n",
    "        \"layer\": geojson_layer,\n",
    "        \"elements\": [{\n",
    "            \"html\": '<img src=\"colorbar.png\">'\n",
    "        }]\n",
    "    },\n",
    "        {\n",
    "        \"name\": 'Legend 2',\n",
    "        \"layer\": geojson_layer2,\n",
    "        \"elements\": [{\n",
    "            \"html\": '<img src=\"colorbar4.png\">'\n",
    "        }]\n",
    "        }\n",
    "    ]\n",
    "})"
   ]
  },
  {
   "cell_type": "markdown",
   "metadata": {},
   "source": [
    "## Create map and add legend"
   ]
  },
  {
   "cell_type": "code",
   "execution_count": 5,
   "metadata": {},
   "outputs": [
    {
     "data": {
      "application/vnd.jupyter.widget-view+json": {
       "model_id": "f7b721bac968484084d744e2567863d8",
       "version_major": 2,
       "version_minor": 0
      },
      "text/plain": [
       "Map(basemap={'url': 'https://{s}.tile.openstreetmap.org/{z}/{x}/{y}.png', 'max_zoom': 19, 'attribution': 'Map …"
      ]
     },
     "metadata": {},
     "output_type": "display_data"
    }
   ],
   "source": [
    "from ipyleaflet import Map\n",
    "from ipywidgets import Layout\n",
    "leafet_map = Map(center=(52.576, 19.006), zoom=7, layout=Layout(height='450px'))\n",
    "leafet_map.add_layer(geojson_layer)\n",
    "leafet_map.add_layer(geojson_layer2)\n",
    "leafet_map.add_control(html_legend)\n",
    "leafet_map"
   ]
  },
  {
   "cell_type": "code",
   "execution_count": null,
   "metadata": {},
   "outputs": [],
   "source": []
  }
 ],
 "metadata": {
  "kernelspec": {
   "display_name": "Python 3",
   "language": "python",
   "name": "python3"
  },
  "language_info": {
   "codemirror_mode": {
    "name": "ipython",
    "version": 3
   },
   "file_extension": ".py",
   "mimetype": "text/x-python",
   "name": "python",
   "nbconvert_exporter": "python",
   "pygments_lexer": "ipython3",
   "version": "3.6.5"
  }
 },
 "nbformat": 4,
 "nbformat_minor": 2
}
